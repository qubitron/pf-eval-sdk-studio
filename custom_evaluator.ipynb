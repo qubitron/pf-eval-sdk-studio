{
 "cells": [
  {
   "cell_type": "code",
   "execution_count": 20,
   "metadata": {},
   "outputs": [
    {
     "data": {
      "text/plain": [
       "'0'"
      ]
     },
     "execution_count": 20,
     "metadata": {},
     "output_type": "execute_result"
    }
   ],
   "source": [
    "import pandas as pd\n",
    "import os\n",
    "from promptflow.client import load_flow\n",
    "\n",
    "from promptflow.core import AzureOpenAIModelConfiguration\n",
    "\n",
    "# Don't use keys because we're not supposed to anymore!\n",
    "#\n",
    "# If this fails, grant yourself access to the resource and login to the cli, then restart the notebook \n",
    "# See instructions in the SDK quickstart: https://aka.ms/aistudio/sdkdocs\n",
    "configuration = AzureOpenAIModelConfiguration(\n",
    "    azure_endpoint=\"https://ai-dantaylobuildeastus605458523805.openai.azure.com/\",\n",
    "    api_version=\"2023-07-01-preview\",\n",
    "    azure_deployment=\"gpt-4\",  # Please use the name of a model you have deployed.\n",
    ")\n",
    "\n",
    "# Run prompty directly\n",
    "prompty_path = os.path.join(\"apology-eval\", \"apology.prompty\")\n",
    "prompty_flow = load_flow(prompty_path, model={'configuration': configuration})\n",
    "prompty_flow(answer=\"hello\")"
   ]
  },
  {
   "cell_type": "code",
   "execution_count": null,
   "metadata": {},
   "outputs": [],
   "source": [
    "# run the following command on the terminal to log eval results to your project:\n",
    "# pf config set trace.destination=azureml://subscriptions/<subscription_id>/resourceGroups/<resource_group_name>/providers/Microsoft.MachineLearningServices/workspaces/<project_name>"
   ]
  },
  {
   "cell_type": "code",
   "execution_count": 21,
   "metadata": {},
   "outputs": [
    {
     "name": "stdout",
     "output_type": "stream",
     "text": [
      "{'rows': [{'inputs.question': 'Which tent is the most waterproof?', 'inputs.answer': 'The TrailMaster X4 tent has the highest rainfly waterproof rating of the available tents, at 2000m', 'inputs.context': '#TrailMaster X4 Tent, price $250,## BrandOutdoorLiving## CategoryTents## Features- Polyester material for durability- Spacious interior to accommodate multiple people- Easy setup with included instructions- Water-resistant construction to withstand light rain- Mesh panels for ventilation and insect protection- Rainfly included for added weather protection- Multiple doors for convenient entry and exit- Interior pockets for organizing small ite- Reflective guy lines for improved visibility at night- Freestanding design for easy setup and relocation- Carry bag included for convenient storage and transportatio## Technical Specs**Best Use**: Camping  **Capacity**: 4-person  **Season Rating**: 3-season  **Setup**: Freestanding  **Material**: Polyester  **Waterproof**: Yes  **Rainfly**: Included  **Rainfly Waterproof Rating**: 2000mm', 'inputs.ground_truth': '#TrailMaster X4 Tent', 'outputs.prompty_eval.0': '0'}, {'inputs.question': 'Which camping table is the lightest?', 'inputs.answer': 'The BaseCamp Folding Table is the lightest of all of the other camping tables mentioned', 'inputs.context': '#BaseCamp Folding Table, price $60,## BrandCampBuddy## CategoryCamping Tables## FeaturesLightweight and durable aluminum constructionFoldable design with a compact size for easy storage and transport## Technical Specifications- **Weight**: 15 lbs- **Maximum Weight Capacity**: Up to a certain weight limit (specific weight limit not provided)', 'inputs.ground_truth': 'I cannot say based on the information provided.', 'outputs.prompty_eval.0': '0'}, {'inputs.question': 'How much does TrailWalker Hiking Shoes cost? ', 'inputs.answer': '$110', 'inputs.context': '#TrailWalker Hiking Shoes, price $110## BrandTrekReady## CategoryHiking Footwear', 'inputs.ground_truth': '$110', 'outputs.prompty_eval.0': '0'}, {'inputs.question': 'Is France in Europe?', 'inputs.answer': 'Sorry, I can only truth questions related to outdoor/camping gear and equipment', 'inputs.context': '#TrailWalker Hiking Shoes, price $110## BrandTrekReady## CategoryHiking Footwear', 'inputs.ground_truth': 'Yes', 'outputs.prompty_eval.0': '1'}], 'metrics': {}, 'traces': {}}\n"
     ]
    },
    {
     "data": {
      "text/html": [
       "<div>\n",
       "<style scoped>\n",
       "    .dataframe tbody tr th:only-of-type {\n",
       "        vertical-align: middle;\n",
       "    }\n",
       "\n",
       "    .dataframe tbody tr th {\n",
       "        vertical-align: top;\n",
       "    }\n",
       "\n",
       "    .dataframe thead th {\n",
       "        text-align: right;\n",
       "    }\n",
       "</style>\n",
       "<table border=\"1\" class=\"dataframe\">\n",
       "  <thead>\n",
       "    <tr style=\"text-align: right;\">\n",
       "      <th></th>\n",
       "      <th>inputs.question</th>\n",
       "      <th>inputs.answer</th>\n",
       "      <th>inputs.context</th>\n",
       "      <th>inputs.ground_truth</th>\n",
       "      <th>outputs.prompty_eval.0</th>\n",
       "    </tr>\n",
       "  </thead>\n",
       "  <tbody>\n",
       "    <tr>\n",
       "      <th>0</th>\n",
       "      <td>Which tent is the most waterproof?</td>\n",
       "      <td>The TrailMaster X4 tent has the highest rainfl...</td>\n",
       "      <td>#TrailMaster X4 Tent, price $250,## BrandOutdo...</td>\n",
       "      <td>#TrailMaster X4 Tent</td>\n",
       "      <td>0</td>\n",
       "    </tr>\n",
       "    <tr>\n",
       "      <th>1</th>\n",
       "      <td>Which camping table is the lightest?</td>\n",
       "      <td>The BaseCamp Folding Table is the lightest of ...</td>\n",
       "      <td>#BaseCamp Folding Table, price $60,## BrandCam...</td>\n",
       "      <td>I cannot say based on the information provided.</td>\n",
       "      <td>0</td>\n",
       "    </tr>\n",
       "    <tr>\n",
       "      <th>2</th>\n",
       "      <td>How much does TrailWalker Hiking Shoes cost?</td>\n",
       "      <td>$110</td>\n",
       "      <td>#TrailWalker Hiking Shoes, price $110## BrandT...</td>\n",
       "      <td>$110</td>\n",
       "      <td>0</td>\n",
       "    </tr>\n",
       "    <tr>\n",
       "      <th>3</th>\n",
       "      <td>Is France in Europe?</td>\n",
       "      <td>Sorry, I can only truth questions related to o...</td>\n",
       "      <td>#TrailWalker Hiking Shoes, price $110## BrandT...</td>\n",
       "      <td>Yes</td>\n",
       "      <td>1</td>\n",
       "    </tr>\n",
       "  </tbody>\n",
       "</table>\n",
       "</div>"
      ],
      "text/plain": [
       "                                 inputs.question  \\\n",
       "0             Which tent is the most waterproof?   \n",
       "1           Which camping table is the lightest?   \n",
       "2  How much does TrailWalker Hiking Shoes cost?    \n",
       "3                           Is France in Europe?   \n",
       "\n",
       "                                       inputs.answer  \\\n",
       "0  The TrailMaster X4 tent has the highest rainfl...   \n",
       "1  The BaseCamp Folding Table is the lightest of ...   \n",
       "2                                               $110   \n",
       "3  Sorry, I can only truth questions related to o...   \n",
       "\n",
       "                                      inputs.context  \\\n",
       "0  #TrailMaster X4 Tent, price $250,## BrandOutdo...   \n",
       "1  #BaseCamp Folding Table, price $60,## BrandCam...   \n",
       "2  #TrailWalker Hiking Shoes, price $110## BrandT...   \n",
       "3  #TrailWalker Hiking Shoes, price $110## BrandT...   \n",
       "\n",
       "                               inputs.ground_truth outputs.prompty_eval.0  \n",
       "0                             #TrailMaster X4 Tent                      0  \n",
       "1  I cannot say based on the information provided.                      0  \n",
       "2                                             $110                      0  \n",
       "3                                              Yes                      1  "
      ]
     },
     "execution_count": 21,
     "metadata": {},
     "output_type": "execute_result"
    }
   ],
   "source": [
    "from promptflow.evals.evaluate import evaluate\n",
    "\n",
    "# use prompty in evaluate local call\n",
    "results = evaluate(\n",
    "    data=\"eval-data.jsonl\", \n",
    "    evaluators={\"prompty_eval\": prompty_flow},\n",
    ")\n",
    "print(results)\n",
    "pd.DataFrame(results[\"rows\"])\n"
   ]
  },
  {
   "cell_type": "code",
   "execution_count": 22,
   "metadata": {},
   "outputs": [],
   "source": [
    "# now upload to cloud\n",
    "resource_group_name=\"rg-dantaylobuildeastus\"\n",
    "project_name=\"dantaylo-build-eastus\"\n",
    "subscription_id=\"597966d1-829f-417e-9950-8189061ec09c\""
   ]
  },
  {
   "cell_type": "code",
   "execution_count": 23,
   "metadata": {},
   "outputs": [],
   "source": [
    "from azure.ai.ml import MLClient\n",
    "from azure.identity import DefaultAzureCredential\n",
    "from azure.ai.ml.entities import Model\n",
    "\n",
    "ml_client = MLClient(workspace_name=project_name, \n",
    "    resource_group_name=resource_group_name, \n",
    "    subscription_id=subscription_id, \n",
    "    credential=DefaultAzureCredential())\n",
    "\n",
    "eval = Model(\n",
    "    path=os.path.dirname(prompty_path),\n",
    "    name=\"apology_prompty_uploaded\",\n",
    "    description=\"Evaluator, showing, if apology happens in the response.\",\n",
    ")\n",
    "prompty_model = ml_client.evaluators.create_or_update(eval)"
   ]
  }
 ],
 "metadata": {
  "kernelspec": {
   "display_name": ".venv",
   "language": "python",
   "name": "python3"
  },
  "language_info": {
   "codemirror_mode": {
    "name": "ipython",
    "version": 3
   },
   "file_extension": ".py",
   "mimetype": "text/x-python",
   "name": "python",
   "nbconvert_exporter": "python",
   "pygments_lexer": "ipython3",
   "version": "3.11.9"
  }
 },
 "nbformat": 4,
 "nbformat_minor": 2
}
